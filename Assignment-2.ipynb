{
 "cells": [
  {
   "cell_type": "markdown",
   "id": "c1433b0c-8489-41fa-93fb-5fbb1baa5543",
   "metadata": {},
   "source": [
    "Q1. How do you comment code in Python? What are the different types of comments?\n",
    "\n",
    "In Python, you can add comments to your code to provide explanations or make notes. Comments are ignored by the Python interpreter and are meant for human readers. There are two types of comments in Python:\n",
    "\n",
    "1. Single-line comments: To create a single-line comment, use the hash symbol (#) before the comment text. Anything after the hash symbol on the same line will be considered a comment.\n",
    "\n",
    "Example:\n",
    "```python\n",
    "# This is a single-line comment\n",
    "print(\"Hello, World!\")  # This is another comment after a statement\n",
    "```\n",
    "\n",
    "2. Multi-line comments: For multi-line comments, you can use triple quotes (''' or \"\"\") to enclose the comment block.\n",
    "\n",
    "Example:\n",
    "```python\n",
    "'''\n",
    "This is a multi-line comment.\n",
    "It can span across multiple lines.\n",
    "'''\n",
    "print(\"Hello, World!\")\n",
    "```"
   ]
  },
  {
   "cell_type": "markdown",
   "id": "561e3ef6-6b34-463c-82c1-9702992d317a",
   "metadata": {},
   "source": [
    "Q2. What are variables in Python? How do you declare and assign values to variables?\n",
    "\n",
    "In Python, a variable is a name that refers to a value stored in the computer's memory. It allows you to store and manipulate data during the program's execution. Variables can hold different data types like numbers, strings, lists, etc.\n",
    "\n",
    "To declare and assign a value to a variable, you simply use the assignment operator (=).\n",
    "\n",
    "Example:\n",
    "```python\n",
    "# Variable declaration and assignment\n",
    "x = 10\n",
    "name = \"John\"\n",
    "is_student = True\n",
    "```\n",
    "\n",
    "In the above example, three variables are declared and assigned values: `x` is assigned the value 10 (an integer), `name` is assigned the string \"John\", and `is_student` is assigned the boolean value True.\n"
   ]
  },
  {
   "cell_type": "markdown",
   "id": "f205b8b3-a85f-419b-9603-7955ae724b3c",
   "metadata": {},
   "source": [
    "Q3. How do you convert one data type to another in Python?\n",
    "\n",
    "In Python, you can convert one data type to another using type conversion functions. Some common type conversion functions include:\n",
    "\n",
    "1. `int()`: Convert to an integer.\n",
    "2. `float()`: Convert to a floating-point number.\n",
    "3. `str()`: Convert to a string.\n",
    "4. `list()`: Convert to a list.\n",
    "5. `tuple()`: Convert to a tuple.\n",
    "6. `bool()`: Convert to a boolean.\n",
    "\n",
    "Example:\n",
    "```python\n",
    "# Converting data types\n",
    "num_str = \"42\"\n",
    "num_int = int(num_str)  # Converts the string \"42\" to the integer 42\n",
    "num_float = float(num_int)  # Converts the integer 42 to the floating-point number 42.0\n",
    "result_str = str(num_float)  # Converts the float 42.0 to the string \"42.0\"\n",
    "```"
   ]
  },
  {
   "cell_type": "markdown",
   "id": "f1168614-52ad-4a2d-aa0a-e47358db21fd",
   "metadata": {},
   "source": [
    "Q4. How do you write and execute a Python script from the command line?\n",
    "\n",
    "To write and execute a Python script from the command line, follow these steps:\n",
    "\n",
    "1. Open a text editor (like Notepad, VSCode, or any other code editor).\n",
    "2. Write your Python code in the text editor and save the file with a `.py` extension. For example, save it as `script.py`.\n",
    "\n",
    "Example script (`script.py`):\n",
    "```python\n",
    "print(\"Hello, World!\")\n",
    "```\n",
    "\n",
    "3. Open the command prompt (Windows) or terminal (macOS/Linux).\n",
    "4. Navigate to the directory where your Python script is saved using the `cd` command (change directory).\n",
    "5. To execute the script, type `python script.py` (replace `script.py` with the name of your Python file) and press Enter.\n",
    "\n",
    "Example:\n",
    "```\n",
    "$ python script.py\n",
    "```\n",
    "\n",
    "The Python interpreter will execute the script, and you should see the output."
   ]
  },
  {
   "cell_type": "markdown",
   "id": "0411cf6a-0f03-40f6-b9ec-cfc561ef0fc2",
   "metadata": {},
   "source": [
    "Q5. Given a list `my_list = [1, 2, 3, 4, 5]`, write the code to slice the list and obtain the sub-list `[2, 3]`.\n",
    "\n",
    "```python\n",
    "my_list = [1, 2, 3, 4, 5]\n",
    "sub_list = my_list[1:3]  # Slicing from index 1 (inclusive) to index 3 (exclusive)\n",
    "print(sub_list)  # Output: [2, 3]\n",
    "```"
   ]
  },
  {
   "cell_type": "markdown",
   "id": "6ec35c14-9e67-442b-a6dd-5a05caf15df3",
   "metadata": {},
   "source": [
    "Q6. What is a complex number in mathematics, and how is it represented in Python?\n",
    "\n",
    "In mathematics, a complex number is a number that comprises two parts: a real part and an imaginary part. It is represented in the form `a + bj`, where `a` is the real part, `b` is the imaginary part, and `j` is the imaginary unit (i.e., the square root of -1).\n",
    "\n",
    "In Python, you can directly represent complex numbers using the `j` suffix to denote the imaginary part.\n",
    "\n",
    "Example:\n",
    "```python\n",
    "# Complex number representation\n",
    "z = 3 + 2j  # 3 is the real part, 2 is the imaginary part, and j denotes the imaginary unit\n",
    "print(z)    # Output: (3+2j)\n",
    "```\n",
    "\n",
    "Python provides built-in functions to work with complex numbers and perform operations like addition, subtraction, multiplication, etc."
   ]
  },
  {
   "cell_type": "markdown",
   "id": "348f0990-4be8-4ee2-9e33-146b4e73b538",
   "metadata": {},
   "source": [
    "Q7. What is the correct way to declare a variable named `age` and assign the value 25 to it?\n",
    "\n",
    "```python\n",
    "age = 25\n",
    "```\n",
    "\n",
    "Q8. Declare a variable named `price` and assign the value 9.99 to it. What data type does this variable belong to?\n",
    "\n",
    "```python\n",
    "price = 9.99\n",
    "```\n",
    "\n",
    "The variable `price` belongs to the data type `float`, as it is assigned a floating-point number value (9.99).\n",
    "\n",
    "Q9. Create a variable named `name` and assign your full name to it as a string. How would you print the value of this variable?\n",
    "\n",
    "```python\n",
    "name = \"John Doe\"\n",
    "print(name)\n",
    "```\n",
    "\n",
    "Replace `\"John Doe\"` with your actual full name. The `print` function is used to display the value of the `name` variable.\n",
    "\n",
    "Q10. Given the string \"Hello, World!\", extract the substring \"World\".\n",
    "\n",
    "```python\n",
    "original_string = \"Hello, World!\"\n",
    "substring = original_string[7:12]  # Slicing from index 7 (inclusive) to index 12 (exclusive)\n",
    "print(substring)  # Output: \"World\"\n",
    "```\n",
    "\n",
    "Q11. Create a variable named `is_student` and assign it a boolean value indicating whether you are currently a student or not.\n",
    "\n",
    "```python\n",
    "is_student = True  # Set it to True if you are currently a student, otherwise set it to False\n",
    "```"
   ]
  },
  {
   "cell_type": "code",
   "execution_count": null,
   "id": "ece00487-b63a-420a-94ae-3395fb5a3638",
   "metadata": {},
   "outputs": [],
   "source": []
  }
 ],
 "metadata": {
  "kernelspec": {
   "display_name": "Python 3 (ipykernel)",
   "language": "python",
   "name": "python3"
  },
  "language_info": {
   "codemirror_mode": {
    "name": "ipython",
    "version": 3
   },
   "file_extension": ".py",
   "mimetype": "text/x-python",
   "name": "python",
   "nbconvert_exporter": "python",
   "pygments_lexer": "ipython3",
   "version": "3.10.8"
  }
 },
 "nbformat": 4,
 "nbformat_minor": 5
}
